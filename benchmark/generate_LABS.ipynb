{
 "cells": [
  {
   "cell_type": "markdown",
   "id": "b14f6978",
   "metadata": {},
   "source": [
    "### Read LABS from 'labs_paulis'"
   ]
  },
  {
   "cell_type": "code",
   "execution_count": 14,
   "id": "1596bec7",
   "metadata": {},
   "outputs": [],
   "source": [
    "import json\n",
    "import numpy as np\n",
    "# Read from JSON file\n",
    "num_qubit = 10  # Length of each vector\n",
    "with open(\"LABS/labs_paulis/\"+ str(num_qubit) +\"_\"+ str(1) +\".json\", \"r\") as file:\n",
    "    boolean_functions = json.load(file)\n",
    "\n",
    "F = []\n",
    "one_term_boolean_functions = []\n",
    "for f in boolean_functions:\n",
    "    if sum(f)==0:\n",
    "        print(\"Incorrect! Containing all False boolean function\")\n",
    "        break\n",
    "    if sum(f)==1:\n",
    "        one_term_boolean_functions.append(f)\n",
    "    if sum(f)>1:\n",
    "        F.append(f)"
   ]
  },
  {
   "cell_type": "code",
   "execution_count": 15,
   "id": "c8821782",
   "metadata": {},
   "outputs": [],
   "source": [
    "import numpy as np\n",
    "\n",
    "def hamming_distance(vec1, vec2):\n",
    "    \"\"\"\n",
    "    Computes the Hamming distance between two binary vectors.\n",
    "    \n",
    "    :param vec1: First binary vector (list of 0/1 or True/False)\n",
    "    :param vec2: Second binary vector (list of 0/1 or True/False)\n",
    "    :return: Integer Hamming distance\n",
    "    \"\"\"\n",
    "    return sum(a != b for a, b in zip(vec1, vec2))\n",
    "\n",
    "def select_best_vector(reference_list, candidate_list):\n",
    "    \"\"\"\n",
    "    Selects the vector from candidate_list that has the minimum total Hamming weight \n",
    "    with respect to all vectors in reference_list.\n",
    "    \n",
    "    :param reference_list: List of binary vectors (comparison base)\n",
    "    :param candidate_list: List of binary vectors (selection pool)\n",
    "    :return: The best binary vector from candidate_list\n",
    "    \"\"\"\n",
    "    best_vector = None\n",
    "    min_hamming_sum = float('inf')\n",
    "\n",
    "    for candidate in candidate_list:\n",
    "        total_hamming = sum(hamming_distance(candidate, ref) for ref in reference_list)\n",
    "        \n",
    "        if total_hamming < min_hamming_sum:\n",
    "            min_hamming_sum = total_hamming\n",
    "            best_vector = candidate\n",
    "\n",
    "    return best_vector\n",
    "\n",
    "ordered_F = []\n",
    "candidate_F = [f for f in F]\n",
    "while candidate_F:\n",
    "    # Select the best vector\n",
    "    best_vector = select_best_vector(ordered_F, candidate_F)\n",
    "    ordered_F.append(best_vector)\n",
    "    candidate_F.remove(best_vector)"
   ]
  },
  {
   "cell_type": "code",
   "execution_count": 16,
   "id": "bac23b18",
   "metadata": {},
   "outputs": [
    {
     "name": "stdout",
     "output_type": "stream",
     "text": [
      "0.028293132781982422\n"
     ]
    }
   ],
   "source": [
    "from QAOA_benchmark import boolean_func_to_normal_qaoa_circuit\n",
    "import time\n",
    "start_time = time.time()\n",
    "org_qc, theta_2 = boolean_func_to_normal_qaoa_circuit(ordered_F,1)\n",
    "\n",
    "parameter_values = [np.pi/5, np.pi/4]\n",
    "parameter_dict = {param: value for param, value in zip(theta_2, parameter_values)}\n",
    "\n",
    "# Bind the parameters\n",
    "bound_org_qc = org_qc.assign_parameters(parameter_dict)\n",
    "\n",
    "from qiskit.transpiler.preset_passmanagers import generate_preset_pass_manager\n",
    "pm = generate_preset_pass_manager(optimization_level=3)\n",
    "candidate_circuit = pm.run(bound_org_qc)\n",
    "\n",
    "end_time = time.time()\n",
    "elapsed_time = end_time - start_time\n",
    "print(elapsed_time)"
   ]
  },
  {
   "cell_type": "code",
   "execution_count": 17,
   "id": "d765014a",
   "metadata": {},
   "outputs": [],
   "source": [
    "from qiskit import QuantumCircuit, qpy\n",
    "with open(\"LABS\"+\"/logical/\"+ str(candidate_circuit.num_qubits) +\"_logical_circuit.qpy\", \"wb\") as qpy_file_write:\n",
    "    qpy.dump(candidate_circuit, qpy_file_write)"
   ]
  }
 ],
 "metadata": {
  "kernelspec": {
   "display_name": "Z3_Phase_test2",
   "language": "python",
   "name": "python3"
  },
  "language_info": {
   "codemirror_mode": {
    "name": "ipython",
    "version": 3
   },
   "file_extension": ".py",
   "mimetype": "text/x-python",
   "name": "python",
   "nbconvert_exporter": "python",
   "pygments_lexer": "ipython3",
   "version": "3.9.18"
  }
 },
 "nbformat": 4,
 "nbformat_minor": 5
}
