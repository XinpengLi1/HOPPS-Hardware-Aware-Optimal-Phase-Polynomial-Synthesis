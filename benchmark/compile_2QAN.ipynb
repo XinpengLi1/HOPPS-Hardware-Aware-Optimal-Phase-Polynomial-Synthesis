{
 "cells": [
  {
   "cell_type": "markdown",
   "id": "28a3412b",
   "metadata": {},
   "source": [
    "2QAN need to run under packages:\n",
    "\n",
    "qiskit               0.36.2\n",
    "qiskit-aer           0.10.4\n",
    "qiskit-ibmq-provider 0.19.1\n",
    "qiskit-ignis         0.7.1\n",
    "qiskit-terra         0.20.2\n",
    "py2QAN               0.0.3\n",
    "retworkx             0.16.0\n",
    "numpy                1.22.4\n",
    "\n",
    "(https://github.com/unitaryfoundation/ucc-2qan)\n",
    "\n",
    "You have two options: 1. you can use data in 'PhasePoly_benchmark' \n",
    "2. you can generate from networkx Graph.\n"
   ]
  },
  {
   "cell_type": "code",
   "execution_count": 2,
   "id": "d7a06af5",
   "metadata": {},
   "outputs": [
    {
     "data": {
      "text/plain": [
       "147.86666666666667"
      ]
     },
     "execution_count": 2,
     "metadata": {},
     "output_type": "execute_result"
    }
   ],
   "source": [
    "(4203+1234+1313+406+116+34+69+22+116+643+189+527)/60"
   ]
  },
  {
   "cell_type": "code",
   "execution_count": null,
   "id": "8bea9fa3",
   "metadata": {},
   "outputs": [],
   "source": [
    "# Import 2QAN compiler passes\n",
    " \n",
    "# BenchArch defines the qubit architecture used in 2QAN\n",
    "# and translates an OpenQASM circuit into Qiskit circuit.\n",
    "from py2qan import BenchArch\n",
    "\n",
    "# HeuristicMapper is the qubit mapping pass, \n",
    "# which finds an efficient mapping between circuit qubits and device qubits\n",
    "# to reduce #SWAPs during qubit routing\n",
    "from py2qan import HeuristicMapper\n",
    "\n",
    "# QuRouter consists of a permutation-aware qubit routing pass \n",
    "# and a permutation-aware gate scheduling pass to minimise #SWAPs and circuit depth\n",
    "from py2qan import QuRouter"
   ]
  },
  {
   "cell_type": "code",
   "execution_count": null,
   "id": "5a5c2d72",
   "metadata": {},
   "outputs": [],
   "source": [
    "import os\n",
    "import pickle as pkl\n",
    "# Import qiskit \n",
    "import qiskit\n",
    "from qiskit import transpile, QuantumCircuit"
   ]
  },
  {
   "cell_type": "code",
   "execution_count": null,
   "id": "04980a32",
   "metadata": {},
   "outputs": [],
   "source": [
    "import json\n",
    "import numpy as np\n",
    "# Read from JSON file\n",
    "num_qubit = 16  # Length of each vector\n",
    "k = 4  # Max True values allowed per vector\n",
    "with open(\"PhasePoly_benchmark/MaxCut/\"+\"Regular\"+ str(num_qubit) +\"_\"+ str(k) +\".json\", \"r\") as file:\n",
    "    boolean_functions = json.load(file)\n",
    "\n",
    "with open(\"PhasePoly_benchmark/MaxCut_layout/\"+\"Regular\"+ str(num_qubit) +\"_\"+ str(k) +\"_IBM_127.json\", \"r\") as file:\n",
    "    device_index_coupling_map = json.load(file)"
   ]
  },
  {
   "cell_type": "code",
   "execution_count": null,
   "id": "c1707bc3",
   "metadata": {},
   "outputs": [],
   "source": [
    "F = []\n",
    "one_term_boolean_functions = []\n",
    "for f in boolean_functions:\n",
    "    if sum(f)==0:\n",
    "        print(\"Incorrect! Containing all False boolean function\")\n",
    "        break\n",
    "    if sum(f)==1:\n",
    "        one_term_boolean_functions.append(f)\n",
    "    if sum(f)>1:\n",
    "        F.append(f)"
   ]
  },
  {
   "cell_type": "code",
   "execution_count": null,
   "id": "bd0ff616",
   "metadata": {},
   "outputs": [],
   "source": [
    "from qiskit import QuantumCircuit\n",
    "from qiskit.circuit import Parameter\n",
    "def boolean_func_to_zz_qaoa_circuit(F, n_layer):\n",
    "    \"\"\"\n",
    "    eg:\n",
    "    # from util import evaluate_circuit\n",
    "    # normal_qaoa, gamma, beta = boolean_func_to_normal_qaoa_circuit(F,1)\n",
    "    # normal_qaoa = normal_qaoa.assign_parameters({gamma[0]: np.pi/5})\n",
    "    # normal_qaoa = normal_qaoa.assign_parameters({beta[0]: np.pi/5})\n",
    "    # normal_qaoa_prob = evaluate_circuit(normal_qaoa, 2**20)\n",
    "    # normal_qaoa.draw()\n",
    "    \"\"\"\n",
    "    theta = []\n",
    "    for i in range(n_layer):\n",
    "        theta.append(Parameter(f'γ_{i}'))\n",
    "        theta.append(Parameter(f'β_{i}'))\n",
    "\n",
    "    qc = QuantumCircuit(len(F[0]))\n",
    "    \n",
    "    for i in range(len(F[0])):\n",
    "        qc.h(i)\n",
    "    \n",
    "    for l in range(n_layer):\n",
    "        for row in F:\n",
    "            true_indices = [i for i, val in enumerate(row) if val]\n",
    "            for i in range(len(true_indices)-2):\n",
    "                qc.cx(true_indices[i], true_indices[i+1])\n",
    "            qc.rzz(np.pi/5,true_indices[len(true_indices)-2], true_indices[len(true_indices)-1])\n",
    "            for i in range(len(true_indices)-2):\n",
    "                qc.cx(true_indices[i], true_indices[i+1])\n",
    "        for i in range(len(F[0])):\n",
    "            qc.rx(np.pi/4,i)\n",
    "\n",
    "    return qc, theta\n",
    "\n",
    "\n",
    "zz_qc,params = boolean_func_to_zz_qaoa_circuit(F,1)"
   ]
  },
  {
   "cell_type": "code",
   "execution_count": null,
   "id": "daeab374",
   "metadata": {},
   "outputs": [],
   "source": [
    "def convert_to_sorted_index(pairs):\n",
    "    # Get sorted unique values\n",
    "    unique_values = sorted(set(num for pair in pairs for num in pair))\n",
    "\n",
    "    # Create a mapping from original numbers to their sorted index\n",
    "    index_map = {num: i for i, num in enumerate(unique_values)}\n",
    "\n",
    "    # Replace numbers with their sorted index\n",
    "    new_pairs = [[index_map[a], index_map[b]] for a, b in pairs]\n",
    "\n",
    "    return new_pairs\n",
    "\n",
    "\n",
    "# Convert to sorted index\n",
    "coupling_map = convert_to_sorted_index(device_index_coupling_map)\n",
    "num_physical_qubit = max(max(edge) for edge in coupling_map)+1"
   ]
  },
  {
   "cell_type": "code",
   "execution_count": null,
   "id": "ab118a02",
   "metadata": {},
   "outputs": [],
   "source": [
    "mapper = 'qiskit' \n",
    "hmapper = HeuristicMapper(c_qasm, coupling_map=coupling_map) # The mapping pass in 2QAN\n",
    "if mapper == 'qap':\n",
    "    # The default mapper based on Quadratic Assignment Problem, very slow for #qubits > 30\n",
    "    init_map, cost = hmapper.run_qap(num_iter=200, lst_len=20)\n",
    "elif mapper == 'qiskit':\n",
    "    # The SABRE mapper in Qiskit\n",
    "    init_map = hmapper.run_qiskit(max_iterations=5)\n",
    "    \n",
    "print('The initial qubit map is \\n', init_map) # keys are device qubits, values are circuit qubits"
   ]
  },
  {
   "cell_type": "code",
   "execution_count": null,
   "id": "fc017146",
   "metadata": {},
   "outputs": [],
   "source": [
    "import time\n",
    "param = [[np.pi/5, np.pi/4]]\n",
    "start_time = time.time()\n",
    "layers = 1 # The number of QAOA layers\n",
    "# Routing and scheduling, takes init_map as input\n",
    "router = QuRouter(c_qasm, init_map=init_map, coupling_map=coupling_map) # The routing and scheduling passes in 2QAN\n",
    "qaoa= True\n",
    "if qaoa:\n",
    "    # For QAOA, different layers have different gate parameters\n",
    "    qs_circ, swaps1 = router.run_qaoa(layers=layers, gammas=param[layers-1][:layers], betas=param[layers-1][layers:], msmt=False) \n",
    "else:\n",
    "    # For quantum simulation circuits, we assume each layer has the same time steps/parameters\n",
    "    qs_circ, swaps1 = router.run(layers=layers, msmt='False')\n",
    "    \n",
    "# The routed and scheduled circuit: \n",
    "# all two-qubit gates are nearest-neighbouring gates on the device, but they have not been decompsed into native gate set\n",
    "# Assuming the cx/cnot gate set in IBMQ\n",
    "basis_gates = ['id', 'rz', 'cx', 'reset','h','rx']\n",
    "decom_circ = transpile(qs_circ, basis_gates=basis_gates, optimization_level=3)\n",
    "end_time = time.time()\n",
    "elapsed_time = end_time - start_time\n",
    "print(elapsed_time)"
   ]
  },
  {
   "cell_type": "code",
   "execution_count": null,
   "id": "1a917289",
   "metadata": {},
   "outputs": [],
   "source": [
    "# from qiskit_util import swap_to_cnot\n",
    "from qiskit.converters import circuit_to_dag\n",
    "\n",
    "def swap_rzz_to_cnot(qc):\n",
    "    dag = circuit_to_dag(qc)\n",
    "    new_qc = QuantumCircuit(qc.qubits, qc.clbits)\n",
    "    for node in list(dag.topological_op_nodes()):\n",
    "        qubits = node.qargs\n",
    "        gate = node.op\n",
    "        if gate.name == 'swap':\n",
    "            new_qc.cx(qubits[0], qubits[1])\n",
    "            new_qc.cx(qubits[1], qubits[0])\n",
    "            new_qc.cx(qubits[0], qubits[1])\n",
    "        elif gate.name == 'unitary':\n",
    "            new_qc.cx(qubits[1], qubits[0])\n",
    "            new_qc.cx(qubits[0], qubits[1])\n",
    "            new_qc.rz(np.pi/5, qubits[0])\n",
    "            new_qc.cx(qubits[1], qubits[0])\n",
    "        elif gate.name == 'rzz':\n",
    "            new_qc.cx(qubits[1], qubits[0])\n",
    "            new_qc.rz(np.pi/5, qubits[0])\n",
    "            new_qc.cx(qubits[1], qubits[0])\n",
    "        else:\n",
    "            new_qc.append(gate, qubits, node.cargs)\n",
    "    return new_qc\n",
    "no_swap_recovered_transpiled_bound_org_qc  = swap_rzz_to_cnot(qs_circ)"
   ]
  },
  {
   "cell_type": "code",
   "execution_count": null,
   "id": "fb74b98d",
   "metadata": {},
   "outputs": [],
   "source": [
    "from qiskit import QuantumCircuit, qpy\n",
    "import json\n",
    "with open(\"benchmark/MaxCut_Regular/2qan/\"+\"Regular\"+ str(num_qubit) +\"_\"+ str(k) +\"_2qan_circuit.qpy\", \"wb\") as qpy_file_write:\n",
    "    qpy.dump(no_swap_recovered_transpiled_bound_org_qc, qpy_file_write)"
   ]
  }
 ],
 "metadata": {
  "kernelspec": {
   "display_name": "Z3_Phase_test2",
   "language": "python",
   "name": "python3"
  },
  "language_info": {
   "codemirror_mode": {
    "name": "ipython",
    "version": 3
   },
   "file_extension": ".py",
   "mimetype": "text/x-python",
   "name": "python",
   "nbconvert_exporter": "python",
   "pygments_lexer": "ipython3",
   "version": "3.9.18"
  }
 },
 "nbformat": 4,
 "nbformat_minor": 5
}
