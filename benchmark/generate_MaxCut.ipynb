{
 "cells": [
  {
   "cell_type": "markdown",
   "id": "b14f6978",
   "metadata": {},
   "source": [
    "### Using Networkx to general graph"
   ]
  },
  {
   "cell_type": "code",
   "execution_count": 14,
   "id": "1596bec7",
   "metadata": {},
   "outputs": [
    {
     "data": {
      "image/png": "[encoded data removed]",
      "text/plain": [
       "<Figure size 640x480 with 1 Axes>"
      ]
     },
     "metadata": {},
     "output_type": "display_data"
    }
   ],
   "source": [
    "import networkx as nx\n",
    "import matplotlib.pyplot as plt\n",
    "\n",
    "# Args\n",
    "k = 4  # Degree of each node\n",
    "n = 4  # Number of nodes\n",
    "p = 0.8\n",
    "\n",
    "graph_type = 'Random' # or 'Random'\n",
    "\n",
    "# Generate k-regular graph\n",
    "if graph_type == 'Regular':\n",
    "    G = nx.random_regular_graph(k, n)\n",
    "elif graph_type == 'Random':\n",
    "    G = nx.erdos_renyi_graph(n, p)\n",
    "    k = G.number_of_edges()\n",
    "\n",
    "# Draw the graph\n",
    "nx.draw(G, with_labels=True, node_color=\"lightblue\", edge_color=\"gray\", node_size=500)\n",
    "plt.show()"
   ]
  },
  {
   "cell_type": "code",
   "execution_count": 15,
   "id": "c8821782",
   "metadata": {},
   "outputs": [],
   "source": [
    "binary_vectors = [[False] * G.number_of_nodes() for i in range(G.number_of_edges())]\n",
    "\n",
    "# Fill the binary matrix\n",
    "for i, (u, v) in enumerate(G.edges):\n",
    "    binary_vectors[i][u] = True  # Mark the first node of the edge\n",
    "    binary_vectors[i][v] = True   # Mark the second node of the edge"
   ]
  },
  {
   "cell_type": "code",
   "execution_count": 16,
   "id": "4612f740",
   "metadata": {},
   "outputs": [],
   "source": [
    "import numpy as np\n",
    "\n",
    "def hamming_distance(vec1, vec2):\n",
    "    \"\"\"\n",
    "    Computes the Hamming distance between two binary vectors.\n",
    "    \n",
    "    :param vec1: First binary vector (list of 0/1 or True/False)\n",
    "    :param vec2: Second binary vector (list of 0/1 or True/False)\n",
    "    :return: Integer Hamming distance\n",
    "    \"\"\"\n",
    "    return sum(a != b for a, b in zip(vec1, vec2))\n",
    "\n",
    "def select_best_vector(reference_list, candidate_list):\n",
    "    \"\"\"\n",
    "    Selects the vector from candidate_list that has the minimum total Hamming weight \n",
    "    with respect to all vectors in reference_list.\n",
    "    \n",
    "    :param reference_list: List of binary vectors (comparison base)\n",
    "    :param candidate_list: List of binary vectors (selection pool)\n",
    "    :return: The best binary vector from candidate_list\n",
    "    \"\"\"\n",
    "    best_vector = None\n",
    "    min_hamming_sum = float('inf')\n",
    "\n",
    "    for candidate in candidate_list:\n",
    "        total_hamming = sum(hamming_distance(candidate, ref) for ref in reference_list)\n",
    "        \n",
    "        if total_hamming < min_hamming_sum:\n",
    "            min_hamming_sum = total_hamming\n",
    "            best_vector = candidate\n",
    "\n",
    "    return best_vector\n",
    "\n",
    "ordered_F = []\n",
    "candidate_F = [f for f in binary_vectors]\n",
    "while candidate_F:\n",
    "    # Select the best vector\n",
    "    best_vector = select_best_vector(ordered_F, candidate_F)\n",
    "    ordered_F.append(best_vector)\n",
    "    candidate_F.remove(best_vector)"
   ]
  },
  {
   "cell_type": "code",
   "execution_count": 17,
   "id": "bac23b18",
   "metadata": {},
   "outputs": [
    {
     "name": "stdout",
     "output_type": "stream",
     "text": [
      "0.011515140533447266\n"
     ]
    }
   ],
   "source": [
    "from QAOA_benchmark import boolean_func_to_normal_qaoa_circuit\n",
    "import time\n",
    "start_time = time.time()\n",
    "org_qc, theta_2 = boolean_func_to_normal_qaoa_circuit(ordered_F,1)\n",
    "\n",
    "parameter_values = [np.pi/5, np.pi/4]\n",
    "parameter_dict = {param: value for param, value in zip(theta_2, parameter_values)}\n",
    "\n",
    "# Bind the parameters\n",
    "bound_org_qc = org_qc.assign_parameters(parameter_dict)\n",
    "\n",
    "from qiskit.transpiler.preset_passmanagers import generate_preset_pass_manager\n",
    "pm = generate_preset_pass_manager(optimization_level=3)\n",
    "candidate_circuit = pm.run(bound_org_qc)\n",
    "\n",
    "end_time = time.time()\n",
    "elapsed_time = end_time - start_time\n",
    "print(elapsed_time)"
   ]
  },
  {
   "cell_type": "code",
   "execution_count": 18,
   "id": "d765014a",
   "metadata": {},
   "outputs": [],
   "source": [
    "from qiskit import QuantumCircuit, qpy\n",
    "with open(\"MaxCut_\"+graph_type+\"/logical/\"+graph_type+ str(candidate_circuit.num_qubits) +\"_\"+ str(k) +\"_logical_circuit.qpy\", \"wb\") as qpy_file_write:\n",
    "    qpy.dump(candidate_circuit, qpy_file_write)"
   ]
  }
 ],
 "metadata": {
  "kernelspec": {
   "display_name": "Z3_Phase_test2",
   "language": "python",
   "name": "python3"
  },
  "language_info": {
   "codemirror_mode": {
    "name": "ipython",
    "version": 3
   },
   "file_extension": ".py",
   "mimetype": "text/x-python",
   "name": "python",
   "nbconvert_exporter": "python",
   "pygments_lexer": "ipython3",
   "version": "3.9.18"
  }
 },
 "nbformat": 4,
 "nbformat_minor": 5
}
