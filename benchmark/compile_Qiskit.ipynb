{
 "cells": [
  {
   "cell_type": "code",
   "execution_count": 1,
   "id": "422b5fbd",
   "metadata": {},
   "outputs": [],
   "source": [
    "from qiskit import QuantumCircuit, qpy\n",
    "num_qubit = 6  # Length of each vector\n",
    "k = 9  # Max True values allowed per vector\n",
    "graph_type = \"Random\"\n",
    "with open(\"MaxCut_\"+graph_type+\"/logical/\"+graph_type+ str(num_qubit) +\"_\"+ str(k) +\"_logical_circuit.qpy\", \"rb\") as f:\n",
    "    bound_org_qc_list = qpy.load(f)\n",
    "    candidate_circuit = bound_org_qc_list[0]"
   ]
  },
  {
   "cell_type": "code",
   "execution_count": 2,
   "id": "a42adf62",
   "metadata": {},
   "outputs": [
    {
     "name": "stdout",
     "output_type": "stream",
     "text": [
      "operator count:  OrderedDict([('cx', 18), ('rz', 9), ('h', 6), ('rx', 6), ('swap', 3)])\n",
      "depth:  33\n",
      "0.0756537914276123\n"
     ]
    }
   ],
   "source": [
    "from util import Fake127_transpile\n",
    "import time\n",
    "start_time = time.time()\n",
    "transpiled_bound_org_qc,subcoupling_map = Fake127_transpile(candidate_circuit, basis_gate=False)\n",
    "end_time = time.time()\n",
    "elapsed_time = end_time - start_time\n",
    "print(elapsed_time)"
   ]
  },
  {
   "cell_type": "code",
   "execution_count": 4,
   "id": "b0f7eb64",
   "metadata": {},
   "outputs": [],
   "source": [
    "from qiskit import QuantumCircuit, qpy\n",
    "import json\n",
    "with open(\"MaxCut_\"+graph_type+\"/qiskit/\"+graph_type+ str(num_qubit) +\"_\"+ str(k) +\"_qiskit_circuit.qpy\", \"wb\") as qpy_file_write:\n",
    "    qpy.dump(transpiled_bound_org_qc, qpy_file_write)\n",
    "\n",
    "# with open(\"MaxCut_\"+graph_type+\"/qiskit_layout/\"+\"Regular\"+ str(num_qubit) +\"_\"+ str(k) +\"_IBM_127.json\", \"w\") as f:\n",
    "#     json.dump(subcoupling_map, f)"
   ]
  }
 ],
 "metadata": {
  "kernelspec": {
   "display_name": "Z3_Phase_test2",
   "language": "python",
   "name": "python3"
  },
  "language_info": {
   "codemirror_mode": {
    "name": "ipython",
    "version": 3
   },
   "file_extension": ".py",
   "mimetype": "text/x-python",
   "name": "python",
   "nbconvert_exporter": "python",
   "pygments_lexer": "ipython3",
   "version": "3.9.18"
  }
 },
 "nbformat": 4,
 "nbformat_minor": 5
}
