{
 "cells": [
  {
   "cell_type": "code",
   "execution_count": 1,
   "id": "422b5fbd",
   "metadata": {},
   "outputs": [],
   "source": [
    "from qiskit import QuantumCircuit, qpy\n",
    "num_qubit = 96  # Length of each vector\n",
    "k = 4  # Max True values allowed per vector\n",
    "graph_type = \"Regular\"\n",
    "with open(\"MaxCut_\"+graph_type+\"/logical/\"+graph_type+ str(num_qubit) +\"_\"+ str(k) +\"_logical_circuit.qpy\", \"rb\") as f:\n",
    "    bound_org_qc_list = qpy.load(f)\n",
    "    candidate_circuit = bound_org_qc_list[0]"
   ]
  },
  {
   "cell_type": "code",
   "execution_count": null,
   "id": "1f42aac2",
   "metadata": {},
   "outputs": [
    {
     "name": "stdout",
     "output_type": "stream",
     "text": [
      "OrderedDict([('cx', 384), ('rz', 192), ('h', 96), ('rx', 96)])\n",
      "OrderedDict([('cx', 384), ('rz', 192)])\n"
     ]
    }
   ],
   "source": [
    "# print(candidate_circuit.count_ops())\n",
    "\n",
    "# from util import remove_gates\n",
    "# cnot_rz_candidate_circuit = remove_gates(candidate_circuit)\n",
    "\n",
    "# print(cnot_rz_candidate_circuit.count_ops())"
   ]
  },
  {
   "cell_type": "code",
   "execution_count": null,
   "id": "f6099c41",
   "metadata": {},
   "outputs": [
    {
     "data": {
      "text/plain": [
       "OrderedDict([('cx', 2471), ('rz', 315), ('sx', 124), ('x', 30)])"
      ]
     },
     "execution_count": 5,
     "metadata": {},
     "output_type": "execute_result"
    }
   ],
   "source": [
    "# from qiskit import transpile\n",
    "# from qiskit.providers.fake_provider import Fake127QPulseV1\n",
    "# fake_backend = Fake127QPulseV1()\n",
    "# transpiled_qc = transpile(cnot_rz_candidate_circuit, fake_backend, optimization_level=3)\n",
    "# transpiled_qc.count_ops()"
   ]
  },
  {
   "cell_type": "code",
   "execution_count": null,
   "id": "fe087efd",
   "metadata": {},
   "outputs": [
    {
     "name": "stdout",
     "output_type": "stream",
     "text": [
      "954\n"
     ]
    },
    {
     "name": "stderr",
     "output_type": "stream",
     "text": [
      "/var/folders/l8/z9twtlsx6815m7383kbwwymm0000gn/T/ipykernel_22335/3814701991.py:14: DeprecationWarning: Treating CircuitInstruction as an iterable is deprecated legacy behavior since Qiskit 1.2, and will be removed in Qiskit 2.0. Instead, use the `operation`, `qubits` and `clbits` named attributes.\n",
      "  for instr, qargs, cargs in qc.data:\n"
     ]
    },
    {
     "data": {
      "text/plain": [
       "OrderedDict([('cx', 2471), ('rz', 315), ('sx', 124), ('x', 30)])"
      ]
     },
     "execution_count": 6,
     "metadata": {},
     "output_type": "execute_result"
    }
   ],
   "source": [
    "def keep_cx(qc):\n",
    "    \"\"\"\n",
    "    Remove specific gates from a given QuantumCircuit.\n",
    "\n",
    "    Parameters:\n",
    "    - qc (QuantumCircuit): The original quantum circuit.\n",
    "    - gate_names (list): List of gate names to remove (default: [\"h\", \"rx\"]).\n",
    "\n",
    "    Returns:\n",
    "    - QuantumCircuit: A new circuit with the specified gates removed.\n",
    "    \"\"\"\n",
    "    new_qc = QuantumCircuit(qc.num_qubits)  # Create a new empty circuit\n",
    "\n",
    "    for instr, qargs, cargs in qc.data:\n",
    "        if instr.name == 'cx':  # Keep only the gates not in the removal list\n",
    "            new_qc.append(instr, qargs, cargs)\n",
    "    return new_qc\n",
    "# print(keep_cx(transpiled_qc).depth())\n",
    "# transpiled_qc.count_ops()"
   ]
  },
  {
   "cell_type": "code",
   "execution_count": 7,
   "id": "a42adf62",
   "metadata": {},
   "outputs": [
    {
     "name": "stdout",
     "output_type": "stream",
     "text": [
      "operator count:  OrderedDict([('swap', 755), ('cx', 384), ('rz', 192), ('h', 96), ('rx', 96)])\n",
      "depth:  590\n",
      "0.16976571083068848\n"
     ]
    }
   ],
   "source": [
    "from util import Fake127_transpile\n",
    "import time\n",
    "start_time = time.time()\n",
    "transpiled_bound_org_qc,subcoupling_map = Fake127_transpile(candidate_circuit, basis_gate=False)\n",
    "end_time = time.time()\n",
    "elapsed_time = end_time - start_time\n",
    "print(elapsed_time)"
   ]
  },
  {
   "cell_type": "code",
   "execution_count": 8,
   "id": "d8d847f6",
   "metadata": {},
   "outputs": [],
   "source": [
    "from qiskit import transpile\n",
    "from qiskit.providers.fake_provider import Fake127QPulseV1\n",
    "fake_backend = Fake127QPulseV1()\n",
    "transpiled_qc = transpile(transpiled_bound_org_qc, fake_backend, optimization_level=3)"
   ]
  },
  {
   "cell_type": "code",
   "execution_count": 13,
   "id": "03412880",
   "metadata": {},
   "outputs": [
    {
     "name": "stdout",
     "output_type": "stream",
     "text": [
      "OrderedDict([('cx', 2435), ('rz', 806), ('sx', 411), ('x', 19)])\n",
      "825\n"
     ]
    },
    {
     "name": "stderr",
     "output_type": "stream",
     "text": [
      "/var/folders/l8/z9twtlsx6815m7383kbwwymm0000gn/T/ipykernel_22335/3814701991.py:14: DeprecationWarning: Treating CircuitInstruction as an iterable is deprecated legacy behavior since Qiskit 1.2, and will be removed in Qiskit 2.0. Instead, use the `operation`, `qubits` and `clbits` named attributes.\n",
      "  for instr, qargs, cargs in qc.data:\n"
     ]
    }
   ],
   "source": [
    "print(transpiled_qc.count_ops())\n",
    "print(keep_cx(transpiled_qc).depth())"
   ]
  },
  {
   "cell_type": "code",
   "execution_count": 12,
   "id": "b0f7eb64",
   "metadata": {},
   "outputs": [],
   "source": [
    "from qiskit import QuantumCircuit, qpy\n",
    "import json\n",
    "with open(\"MaxCut_\"+graph_type+\"/qiskit/\"+graph_type+ str(num_qubit) +\"_\"+ str(k) +\"_qiskit_circuit.qpy\", \"wb\") as qpy_file_write:\n",
    "    qpy.dump(transpiled_bound_org_qc, qpy_file_write)\n",
    "\n",
    "# with open(\"MaxCut_\"+graph_type+\"/qiskit_layout/\"+\"Regular\"+ str(num_qubit) +\"_\"+ str(k) +\"_IBM_127.json\", \"w\") as f:\n",
    "#     json.dump(subcoupling_map, f)"
   ]
  }
 ],
 "metadata": {
  "kernelspec": {
   "display_name": "Z3_Phase_test2",
   "language": "python",
   "name": "python3"
  },
  "language_info": {
   "codemirror_mode": {
    "name": "ipython",
    "version": 3
   },
   "file_extension": ".py",
   "mimetype": "text/x-python",
   "name": "python",
   "nbconvert_exporter": "python",
   "pygments_lexer": "ipython3",
   "version": "3.9.18"
  }
 },
 "nbformat": 4,
 "nbformat_minor": 5
}
