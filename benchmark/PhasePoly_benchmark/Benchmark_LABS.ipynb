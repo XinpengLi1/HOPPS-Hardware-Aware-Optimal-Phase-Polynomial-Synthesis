{
 "cells": [
  {
   "cell_type": "code",
   "execution_count": 56,
   "metadata": {},
   "outputs": [],
   "source": [
    "import json\n",
    "import numpy as np\n",
    "# Read from JSON file\n",
    "num_qubit = 10  # Length of each vector\n",
    "with open(\"LABS/\"+\"labs_paulis/labs_n\"+ str(num_qubit) +\"_layers1.json\", \"r\") as file:\n",
    "    paulis = json.load(file)"
   ]
  },
  {
   "cell_type": "code",
   "execution_count": 57,
   "metadata": {},
   "outputs": [],
   "source": [
    "binary_vectors = []\n",
    "for pauli in paulis:\n",
    "    vector = [False]*len(pauli)\n",
    "    for i, bit in enumerate(pauli):\n",
    "        if bit=='Z':\n",
    "            vector[i]=True\n",
    "    if sum(vector)!=0:\n",
    "        binary_vectors.append(vector)"
   ]
  },
  {
   "cell_type": "code",
   "execution_count": 58,
   "metadata": {},
   "outputs": [],
   "source": [
    "import json\n",
    "\n",
    "with open(\"LABS/\"+ str(num_qubit) +\"_\"+ str(1) +\".json\", \"w\") as f:\n",
    "    json.dump(binary_vectors, f)"
   ]
  },
  {
   "cell_type": "markdown",
   "metadata": {},
   "source": [
    "### Qiskit transpile"
   ]
  },
  {
   "cell_type": "code",
   "execution_count": 59,
   "metadata": {},
   "outputs": [],
   "source": [
    "import json\n",
    "import numpy as np\n",
    "# Read from JSON file\n",
    "num_qubit = 20  # Length of each vector\n",
    "with open(\"LABS/\"+ str(num_qubit) +\"_\"+ str(1) +\".json\", \"r\") as file:\n",
    "    boolean_functions = json.load(file)\n",
    "\n",
    "F = []\n",
    "one_term_boolean_functions = []\n",
    "for f in boolean_functions:\n",
    "    if sum(f)==0:\n",
    "        print(\"Incorrect! Containing all False boolean function\")\n",
    "        break\n",
    "    if sum(f)==1:\n",
    "        one_term_boolean_functions.append(f)\n",
    "    if sum(f)>1:\n",
    "        F.append(f)"
   ]
  },
  {
   "cell_type": "code",
   "execution_count": 60,
   "metadata": {},
   "outputs": [],
   "source": [
    "import numpy as np\n",
    "\n",
    "def hamming_distance(vec1, vec2):\n",
    "    \"\"\"\n",
    "    Computes the Hamming distance between two binary vectors.\n",
    "    \n",
    "    :param vec1: First binary vector (list of 0/1 or True/False)\n",
    "    :param vec2: Second binary vector (list of 0/1 or True/False)\n",
    "    :return: Integer Hamming distance\n",
    "    \"\"\"\n",
    "    return sum(a != b for a, b in zip(vec1, vec2))\n",
    "\n",
    "def select_best_vector(reference_list, candidate_list):\n",
    "    \"\"\"\n",
    "    Selects the vector from candidate_list that has the minimum total Hamming weight \n",
    "    with respect to all vectors in reference_list.\n",
    "    \n",
    "    :param reference_list: List of binary vectors (comparison base)\n",
    "    :param candidate_list: List of binary vectors (selection pool)\n",
    "    :return: The best binary vector from candidate_list\n",
    "    \"\"\"\n",
    "    best_vector = None\n",
    "    min_hamming_sum = float('inf')\n",
    "\n",
    "    for candidate in candidate_list:\n",
    "        total_hamming = sum(hamming_distance(candidate, ref) for ref in reference_list)\n",
    "        \n",
    "        if total_hamming < min_hamming_sum:\n",
    "            min_hamming_sum = total_hamming\n",
    "            best_vector = candidate\n",
    "\n",
    "    return best_vector\n",
    "\n",
    "ordered_F = []\n",
    "candidate_F = [f for f in F]\n",
    "while candidate_F:\n",
    "    # Select the best vector\n",
    "    best_vector = select_best_vector(ordered_F, candidate_F)\n",
    "    ordered_F.append(best_vector)\n",
    "    candidate_F.remove(best_vector)"
   ]
  },
  {
   "cell_type": "code",
   "execution_count": 6,
   "metadata": {},
   "outputs": [],
   "source": [
    "import os\n",
    "import sys\n",
    "\n",
    "here = os.path.dirname('Benchmark.ipynb')\n",
    "\n",
    "sys.path.append(os.path.join(here, '..'))"
   ]
  },
  {
   "cell_type": "code",
   "execution_count": 62,
   "metadata": {},
   "outputs": [
    {
     "name": "stdout",
     "output_type": "stream",
     "text": [
      "0.4547579288482666\n"
     ]
    }
   ],
   "source": [
    "from QAOA_benchmark import boolean_func_to_normal_qaoa_circuit\n",
    "import time\n",
    "start_time = time.time()\n",
    "org_qc, theta_2 = boolean_func_to_normal_qaoa_circuit(ordered_F,1)\n",
    "\n",
    "parameter_values = [np.pi/5, np.pi/4]\n",
    "parameter_dict = {param: value for param, value in zip(theta_2, parameter_values)}\n",
    "\n",
    "# Bind the parameters\n",
    "bound_org_qc = org_qc.assign_parameters(parameter_dict)\n",
    "\n",
    "from qiskit.transpiler.preset_passmanagers import generate_preset_pass_manager\n",
    "pm = generate_preset_pass_manager(optimization_level=3)\n",
    "candidate_circuit = pm.run(bound_org_qc)\n",
    "\n",
    "end_time = time.time()\n",
    "elapsed_time = end_time - start_time\n",
    "print(elapsed_time)"
   ]
  },
  {
   "cell_type": "code",
   "execution_count": 63,
   "metadata": {},
   "outputs": [
    {
     "data": {
      "text/plain": [
       "OrderedDict([('cx', 3192), ('rz', 615), ('h', 20), ('rx', 20)])"
      ]
     },
     "execution_count": 63,
     "metadata": {},
     "output_type": "execute_result"
    }
   ],
   "source": [
    "candidate_circuit.count_ops()"
   ]
  },
  {
   "cell_type": "code",
   "execution_count": 64,
   "metadata": {},
   "outputs": [
    {
     "data": {
      "text/plain": [
       "3154"
      ]
     },
     "execution_count": 64,
     "metadata": {},
     "output_type": "execute_result"
    }
   ],
   "source": [
    "candidate_circuit.depth()"
   ]
  },
  {
   "cell_type": "code",
   "execution_count": 65,
   "metadata": {},
   "outputs": [],
   "source": [
    "from qiskit import QuantumCircuit, qpy\n",
    "path = '/Users/xinpengli/Desktop/QAOAZ3/'\n",
    "with open(path+\"Experiment/LABS/logical/\"+ str(num_qubit) +\"_\"+ str(1) +\"_logical_circuit.qpy\", \"wb\") as qpy_file_write:\n",
    "    qpy.dump(candidate_circuit, qpy_file_write)"
   ]
  },
  {
   "cell_type": "code",
   "execution_count": 51,
   "metadata": {},
   "outputs": [
    {
     "name": "stdout",
     "output_type": "stream",
     "text": [
      "operator count:  OrderedDict([('cx', 3192), ('swap', 3131), ('rz', 615), ('h', 20), ('rx', 20)])\n",
      "depth:  4729\n",
      "0.728644847869873\n"
     ]
    }
   ],
   "source": [
    "from qiskit_util import  remove_unused_qubit, Fake127_transpile\n",
    "import time\n",
    "start_time = time.time()\n",
    "transpiled_bound_org_qc,subcoupling_map = Fake127_transpile(candidate_circuit, basis_gate=False)\n",
    "end_time = time.time()\n",
    "elapsed_time = end_time - start_time\n",
    "print(elapsed_time)"
   ]
  },
  {
   "cell_type": "code",
   "execution_count": 52,
   "metadata": {},
   "outputs": [],
   "source": [
    "# from qiskit_util import swap_to_cnot\n",
    "def swap_to_cnot(qc):\n",
    "    new_qc = QuantumCircuit(qc.qubits, qc.clbits)\n",
    "    for gate in qc.data:\n",
    "        if gate.name == 'swap':\n",
    "            new_qc.cx(gate.qubits[0], gate.qubits[1])\n",
    "            new_qc.cx(gate.qubits[1], gate.qubits[0])\n",
    "            new_qc.cx(gate.qubits[0], gate.qubits[1])\n",
    "        else:\n",
    "            new_qc.append(gate)\n",
    "    return new_qc\n",
    "no_swap_recovered_transpiled_bound_org_qc  = swap_to_cnot(transpiled_bound_org_qc)"
   ]
  },
  {
   "cell_type": "code",
   "execution_count": 53,
   "metadata": {},
   "outputs": [
    {
     "data": {
      "text/plain": [
       "7959"
      ]
     },
     "execution_count": 53,
     "metadata": {},
     "output_type": "execute_result"
    }
   ],
   "source": [
    "no_swap_recovered_transpiled_bound_org_qc.depth()"
   ]
  },
  {
   "cell_type": "code",
   "execution_count": 54,
   "metadata": {},
   "outputs": [
    {
     "data": {
      "text/plain": [
       "OrderedDict([('cx', 12585), ('rz', 615), ('h', 20), ('rx', 20)])"
      ]
     },
     "execution_count": 54,
     "metadata": {},
     "output_type": "execute_result"
    }
   ],
   "source": [
    "no_swap_recovered_transpiled_bound_org_qc.count_ops()"
   ]
  },
  {
   "cell_type": "code",
   "execution_count": 55,
   "metadata": {},
   "outputs": [],
   "source": [
    "from qiskit import QuantumCircuit, qpy\n",
    "import json\n",
    "with open(path+\"Experiment/LABS/qiskit/\"+ str(num_qubit)+\"_qiskit_circuit.qpy\", \"wb\") as qpy_file_write:\n",
    "    qpy.dump(transpiled_bound_org_qc, qpy_file_write)\n",
    "\n",
    "with open(path+\"Benchmark/LABS_layout/\"+ str(num_qubit) +\"_IBM_127.json\", \"w\") as f:\n",
    "    json.dump(subcoupling_map, f)"
   ]
  }
 ],
 "metadata": {
  "kernelspec": {
   "display_name": "Z3",
   "language": "python",
   "name": "python3"
  },
  "language_info": {
   "codemirror_mode": {
    "name": "ipython",
    "version": 3
   },
   "file_extension": ".py",
   "mimetype": "text/x-python",
   "name": "python",
   "nbconvert_exporter": "python",
   "pygments_lexer": "ipython3",
   "version": "3.9.18"
  }
 },
 "nbformat": 4,
 "nbformat_minor": 2
}
